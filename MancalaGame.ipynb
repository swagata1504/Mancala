{
 "cells": [
  {
   "cell_type": "code",
   "execution_count": 1,
   "metadata": {},
   "outputs": [],
   "source": [
    "import games\n",
    "from notebook import psource, pseudocode"
   ]
  },
  {
   "cell_type": "code",
   "execution_count": 20,
   "metadata": {},
   "outputs": [],
   "source": [
    "class Mancala(games.Game):\n",
    "    \"\"\"A game is similar to a problem, but it has a utility for each\n",
    "    state and a terminal test instead of a path cost and a goal\n",
    "    test. To create a game, subclass this class and implement actions,\n",
    "    result, utility, and terminal_test. You may override display and\n",
    "    successors or you can inherit their default methods. You will also\n",
    "    need to set the .initial attribute to the initial state; this can\n",
    "    be done in the constructor.\"\"\"\n",
    "\n",
    "    def __init__(self):\n",
    "#         self.scoreCups = [0, 0]\n",
    "        #4 marbels per cup, on each player's side\n",
    "        self.board = [4, 4, 4, 4, 4, 4, 0, 4, 4, 4, 4, 4, 4, 0]\n",
    "        #True for player 1 and False for player 2\n",
    "        self.player_turn = True\n",
    "    \n",
    "    def actions(self, state):\n",
    "        \"\"\"Return a list of the allowable moves at this point.\"\"\"\n",
    "        moves = []\n",
    "        cups = state.board\n",
    "        if state.player_turn==True:\n",
    "            board_range = range(0,6)\n",
    "        else:\n",
    "            board_range = range(7,13)\n",
    "        for m in board_range:\n",
    "            if cups[m] != 0 and m%7!=6:\n",
    "                moves += [m]\n",
    "        return moves\n",
    "\n",
    "    def result(self, state, move):\n",
    "        \"\"\"Return the state that results from making a move from a state.\"\"\"\n",
    "        #getting the marbles in the cup\n",
    "        marblesInCup = state.board[move]\n",
    "        lastPlace = (marblesInCup+move)%13\n",
    "        # if it's the first player\n",
    "#         if (lastPlace)%7!=6:\n",
    "            \n",
    "        raise NotImplementedError\n",
    "\n",
    "    def utility(self, state, player):\n",
    "        \"\"\"Return the value of this final state to player.\"\"\"\n",
    "        raise NotImplementedError\n",
    "\n",
    "    def terminal_test(self, state):\n",
    "        \"\"\"Return True if this is a final state for the game.\"\"\"\n",
    "        return not self.actions(state)\n",
    "\n",
    "    def to_move(self, state):\n",
    "        \"\"\"Return the player whose move it is in this state.\"\"\"\n",
    "        return state.to_move\n",
    "\n",
    "    def display(self, state):\n",
    "        \"\"\"Print or otherwise display the state.\"\"\"\n",
    "        print(state)\n",
    "\n",
    "    def __repr__(self):\n",
    "        board = \"Player 2\"\n",
    "        board += \"\\n\\t6\\t5\\t4\\t3\\t2\\t1\"\n",
    "        board += \"\\n------------------------------------------------------------\\n\"\n",
    "        board += str(self.board[13]) + \"\\t\"\n",
    "        for elem in range(6,13):\n",
    "            board += str(self.board[elem]) + \"\\t\"\n",
    "        board += \"\\n\\t\"\n",
    "        for elem in range(0,5):\n",
    "            board += str(self.board[elem]) + \"\\t\"\n",
    "        board += str(self.scoreCups[0])\n",
    "        board += \"\\n------------------------------------------------------------\"\n",
    "        board += \"\\n\\t1\\t2\\t3\\t4\\t5\\t6\\n\"\n",
    "        board += \"Player 1\\n\"        \n",
    "        return board\n",
    "\n",
    "    def play_game(self, *players):\n",
    "        \"\"\"Play an n-person, move-alternating game.\"\"\"\n",
    "        state = self.initial\n",
    "        while True:\n",
    "            for player in players:\n",
    "                move = player(self, state)\n",
    "                state = self.result(state, move)\n",
    "                if self.terminal_test(state):\n",
    "                    self.display(state)\n",
    "                    return self.utility(state, self.to_move(self.initial))"
   ]
  },
  {
   "cell_type": "code",
   "execution_count": 17,
   "metadata": {},
   "outputs": [],
   "source": [
    "def legalMoves(cups):\n",
    "#         \"\"\" Returns a list of legal moves for the given player \"\"\"\n",
    "#         if num == 1:\n",
    "#             cups = self.P1Cups\n",
    "#         else:\n",
    "#             cups = self.P2Cups\n",
    "        moves = []\n",
    "        for m in range(len(cups)):\n",
    "            if cups[m] != 0:\n",
    "                moves += [m+1]\n",
    "        return moves"
   ]
  },
  {
   "cell_type": "code",
   "execution_count": 18,
   "metadata": {},
   "outputs": [],
   "source": [
    "# legalMoves([4, 4, 4, 4, 4, 4])\n",
    "# legalMoves(14)"
   ]
  },
  {
   "cell_type": "code",
   "execution_count": 19,
   "metadata": {},
   "outputs": [
    {
     "name": "stdout",
     "output_type": "stream",
     "text": [
      "[0, 1, 2, 3, 4, 5]\n",
      "[4, 4, 4, 4, 4, 4, 0, 4, 4, 4, 4, 4, 4, 0]\n"
     ]
    }
   ],
   "source": [
    "mancala = Mancala()\n",
    "print(mancala.actions(mancala))\n",
    "print(mancala.board)\n",
    "# print(mancala.__repr__())"
   ]
  },
  {
   "cell_type": "markdown",
   "metadata": {},
   "source": [
    "* `actions(self, state)`: Given a game state, this method generates all the legal actions possible from this state, as a list or a generator. Returning a generator rather than a list has the advantage that it saves space and you can still operate on it as a list.\n",
    "\n",
    "\n",
    "* `result(self, state, move)`: Given a game state and a move, this method returns the game state that you get by making that move on this game state.\n",
    "\n",
    "\n",
    "* `utility(self, state, player)`: Given a terminal game state and a player, this method returns the utility for that player in the given terminal game state. While implementing this method assume that the game state is a terminal game state. The logic in this module is such that this method will be called only on terminal game states.\n",
    "\n",
    "\n",
    "* `terminal_test(self, state)`: Given a game state, this method should return `True` if this game state is a terminal state, and `False` otherwise.\n",
    "\n",
    "\n",
    "* `to_move(self, state)`: Given a game state, this method returns the player who is to play next. This information is typically stored in the game state, so all this method does is extract this information and return it.\n",
    "\n",
    "\n",
    "* `display(self, state)`: This method prints/displays the current state of the game."
   ]
  },
  {
   "cell_type": "code",
   "execution_count": null,
   "metadata": {},
   "outputs": [],
   "source": []
  }
 ],
 "metadata": {
  "kernelspec": {
   "display_name": "Python 3",
   "language": "python",
   "name": "python3"
  },
  "language_info": {
   "codemirror_mode": {
    "name": "ipython",
    "version": 3
   },
   "file_extension": ".py",
   "mimetype": "text/x-python",
   "name": "python",
   "nbconvert_exporter": "python",
   "pygments_lexer": "ipython3",
   "version": "3.6.5"
  }
 },
 "nbformat": 4,
 "nbformat_minor": 2
}
