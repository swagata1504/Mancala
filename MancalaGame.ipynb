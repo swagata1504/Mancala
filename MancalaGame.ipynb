{
 "cells": [
  {
   "cell_type": "code",
   "execution_count": 2,
   "metadata": {},
   "outputs": [],
   "source": [
    "import games\n",
    "from notebook import psource, pseudocode"
   ]
  },
  {
   "cell_type": "markdown",
   "metadata": {},
   "source": [
    "* `actions(self, state)`: Given a game state, this method generates all the legal actions possible from this state, as a list or a generator. Returning a generator rather than a list has the advantage that it saves space and you can still operate on it as a list.\n",
    "\n",
    "\n",
    "* `result(self, state, move)`: Given a game state and a move, this method returns the game state that you get by making that move on this game state.\n",
    "\n",
    "\n",
    "* `utility(self, state, player)`: Given a terminal game state and a player, this method returns the utility for that player in the given terminal game state. While implementing this method assume that the game state is a terminal game state. The logic in this module is such that this method will be called only on terminal game states.\n",
    "\n",
    "\n",
    "* `terminal_test(self, state)`: Given a game state, this method should return `True` if this game state is a terminal state, and `False` otherwise.\n",
    "\n",
    "\n",
    "* `to_move(self, state)`: Given a game state, this method returns the player who is to play next. This information is typically stored in the game state, so all this method does is extract this information and return it.\n",
    "\n",
    "\n",
    "* `display(self, state)`: This method prints/displays the current state of the game."
   ]
  },
  {
   "cell_type": "code",
   "execution_count": 9,
   "metadata": {},
   "outputs": [],
   "source": [
    "class Mancala(games.Game):\n",
    "    \"\"\"A game is similar to a problem, but it has a utility for each\n",
    "    state and a terminal test instead of a path cost and a goal\n",
    "    test. To create a game, subclass this class and implement actions,\n",
    "    result, utility, and terminal_test. You may override display and\n",
    "    successors or you can inherit their default methods. You will also\n",
    "    need to set the .initial attribute to the initial state; this can\n",
    "    be done in the constructor.\"\"\"\n",
    "\n",
    "    def __init__(self, board = [4, 4, 4, 4, 4, 4, 0, 4, 4, 4, 4, 4, 4, 0], player_turn=False):\n",
    "        #4 marbels per cup, on each player's side\n",
    "        self.board = board\n",
    "        #True for player 1 and False for player 2\n",
    "        self.player_turn = player_turn\n",
    "        self.initial = games.GameState(to_move=player_turn, utility=0, board=board, moves=self.get_moves(player_turn,self.board))\n",
    "        \n",
    "    \n",
    "    def actions(self, state):\n",
    "        \"\"\"Return a list of the allowable moves at this point.\"\"\"\n",
    "        \n",
    "        return self.get_moves(state.to_move, state.board)\n",
    "\n",
    "    def get_moves(self, player_turn, cups):\n",
    "        moves = []\n",
    "        if player_turn==True:\n",
    "            board_range = range(0,6)\n",
    "        else:\n",
    "            board_range = range(7,13)\n",
    "        for m in board_range:\n",
    "            if cups[m] != 0 and m%7!=6:\n",
    "                moves += [m]\n",
    "        return moves\n",
    "\n",
    "    def result(self, state, move):\n",
    "        \"\"\"Return the state that results from making a move from a state.\"\"\"\n",
    "        #getting the marbles in the cup\n",
    "        board = state.board[:]\n",
    "        marblesInCup = board[move]\n",
    "        currentPlayer = state.to_move\n",
    "        \n",
    "        if currentPlayer:\n",
    "            scoreSpot = 6\n",
    "        else:\n",
    "            scoreSpot = 13\n",
    "\n",
    "        board[move]=0\n",
    "        initialPlace = move\n",
    "        for i in range(0,marblesInCup):\n",
    "            boardIndex = move%14\n",
    "            #Makes sure that the players don't score on the opponant score board\n",
    "            if currentPlayer==True and boardIndex==12:\n",
    "                move+=1\n",
    "            elif currentPlayer==False and boardIndex==5:\n",
    "                move+=1\n",
    "            #initial cup will always be empty & skipped over\n",
    "            elif initialPlace == boardIndex+1:\n",
    "                move+=1\n",
    "            move+=1\n",
    "            board[move%14]+=1\n",
    "\n",
    "        lastSpot = move%14\n",
    "        #If the last piece you drop is in an empty hole on your side,\n",
    "        #you capture that piece and any pieces in the hole directly opposite.\n",
    "#         print(lastSpot)\n",
    "#         print(\"Initial board:\",board)\n",
    "        \n",
    "        if board[lastSpot] == 1:\n",
    "            if (not currentPlayer and lastSpot>6 and lastSpot<13):\n",
    "                \n",
    "                board[0:6] = reversed(board[0:6])\n",
    "                board[scoreSpot] += board[(lastSpot+7)%14]\n",
    "                board[(lastSpot+7)%14]=0\n",
    "                board[0:6] = reversed(board[0:6])\n",
    "                board[scoreSpot]+=board[lastSpot]\n",
    "                board[lastSpot]=0\n",
    "            elif (currentPlayer and lastSpot < 6):\n",
    "                board[7:13] = reversed(board[7:13])\n",
    "                board[scoreSpot] += board[(lastSpot+7)%14]\n",
    "                board[(lastSpot+7)%14]=0\n",
    "                board[7:13] = reversed(board[7:13])\n",
    "                board[scoreSpot]+=board[lastSpot]\n",
    "\n",
    "        #the player changes only when the current player's marble don't land on their score cup\n",
    "        if (currentPlayer and lastSpot!=6) or (not currentPlayer and lastSpot!=13):\n",
    "            currentPlayer = not currentPlayer\n",
    "        \n",
    "        return games.GameState(to_move=currentPlayer,\n",
    "                         utility=self.utility(state,currentPlayer),\n",
    "                         board=board, moves=self.get_moves(self.player_turn,state.board))\n",
    "#         return state\n",
    "\n",
    "    def utility(self, state, player):\n",
    "        \"\"\"Return the value of this final state to player.\"\"\"\n",
    "        sum = 0\n",
    "        if (state.board[0] == 0 and state.board[1] == 0 and state.board[2] == 0 and state.board[3] == 0 and state.board[4] == 0 and state.board[5] == 0) :\n",
    "            for i in range(7,13) :\n",
    "                sum += state.board[i]\n",
    "            state.board[13] += sum\n",
    "\n",
    "        elif (state.board[7] == 0 and state.board[8] == 0 and state.board[9] == 0 and state.board[10] == 0 and state.board[11] == 0 and state.board[12] == 0) :\n",
    "            for i in range(6) :\n",
    "                sum += state.board[i]\n",
    "            state.board[6] += sum\n",
    "            \n",
    "        return self.check_winner(state.board)\n",
    "        \n",
    "    def check_winner(self, board) :\n",
    "        \"\"\"Checks which player won. Player 1 wins if it returns 1, Player 2 wins if it returns 2.\"\"\"\n",
    "        if board[6] > board[13] :\n",
    "            return 1\n",
    "        elif board[6] < board[13] :\n",
    "            return -1\n",
    "        elif board[6] == board[13] :\n",
    "            return 0\n",
    "\n",
    "    def terminal_test(self, state):\n",
    "        \"\"\"Return True if this is a final state for the game.\"\"\"\n",
    "        \n",
    "        if (state.board[0] == 0 and state.board[1] == 0 and state.board[2] == 0 and state.board[3] == 0 and state.board[4] == 0 and state.board[5] == 0) or (state.board[7] == 0 and state.board[8] == 0 and state.board[9] == 0 and state.board[10] == 0 and state.board[11] == 0 and state.board[12] == 0) :\n",
    "            return True\n",
    "        else :\n",
    "            return False\n",
    "\n",
    "    def to_move(self, state):\n",
    "        \"\"\"Return the player whose move it is in this state.\"\"\"\n",
    "        if state.to_move==True:\n",
    "            return \"Player 1\"\n",
    "        else:\n",
    "            return \"Player 2\"\n",
    "\n",
    "    def display(self, state):\n",
    "        \"\"\"Print or otherwise display the state.\"\"\"\n",
    "#         print(state)\n",
    "        print(\"In display:\",state.board)\n",
    "#         self.__repr__(state)\n",
    "        board = \"Player 2\"\n",
    "        board += \"\\n\\t6\\t5\\t4\\t3\\t2\\t1\"\n",
    "        board += \"\\n------------------------------------------------------------\\n\"\n",
    "        board += str(state.board[13]) + \"\\t\"\n",
    "        for elem in range(12,6,-1):\n",
    "            board += str(state.board[elem]) + \"\\t\"\n",
    "        board += \"\\n\\t\"\n",
    "        for elem in range(0,6):\n",
    "            board += str(state.board[elem]) + \"\\t\"\n",
    "        board += str(state.board[6])\n",
    "        board += \"\\n------------------------------------------------------------\"\n",
    "        board += \"\\n\\t1\\t2\\t3\\t4\\t5\\t6\\n\"\n",
    "        board += \"Player 1\\n\"    \n",
    "        print(board)\n",
    "\n",
    "        \n",
    "#     def __repr__(self):\n",
    "#         return self.board\n",
    "\n",
    "    def play_game(self, *players):\n",
    "        \"\"\"Play an n-person, move-alternating game.\"\"\"\n",
    "        state = self.initial\n",
    "        while True:\n",
    "            for player in players:\n",
    "                move = player(self, state)\n",
    "                state = self.result(state, move)\n",
    "#                 self.display(state)\n",
    "                if self.terminal_test(state):\n",
    "                    self.display(state)\n",
    "                    return self.utility(state, self.to_move(self.initial))"
   ]
  },
  {
   "cell_type": "code",
   "execution_count": 10,
   "metadata": {},
   "outputs": [
    {
     "name": "stdout",
     "output_type": "stream",
     "text": [
      "[1, 2, 3, 4, 5, 6, 7, 14, 13, 12, 11, 10, 9, 8]\n"
     ]
    },
    {
     "data": {
      "text/plain": [
       "[1, 2, 3, 4, 5, 6, 7, 8, 9, 10, 11, 12, 13, 14]"
      ]
     },
     "execution_count": 10,
     "metadata": {},
     "output_type": "execute_result"
    }
   ],
   "source": [
    "a = [1,2,3,4,5,6,7,8,9,10,11,12,13,14]\n",
    "b=a[:]\n",
    "b[7:14] = reversed(b[7:14])\n",
    "print(b)\n",
    "b[7:14] = reversed(b[7:14])\n",
    "b"
   ]
  },
  {
   "cell_type": "code",
   "execution_count": 11,
   "metadata": {
    "scrolled": true
   },
   "outputs": [
    {
     "name": "stdout",
     "output_type": "stream",
     "text": [
      "[4, 4, 4, 4, 4, 4, 0, 4, 4, 4, 4, 4, 4, 0]\n",
      "Current player turn: False\n",
      "GameState(to_move=<bound method Mancala.to_move of <Mancala>>, utility=0, board=[4, 4, 0, 5, 5, 5, 1, 4, 4, 4, 4, 4, 4, 0], moves=[7, 8, 9, 10, 11, 12])\n",
      "<bound method Mancala.display of <Mancala>>\n",
      "[4, 4, 4, 4, 4, 4, 0, 4, 4, 4, 4, 4, 4, 0]\n",
      "Next player turn: False\n"
     ]
    }
   ],
   "source": [
    "#If the last piece you drop is in your own store, you get a free turn.\n",
    "mancala = Mancala()\n",
    "print(mancala.board)\n",
    "print(\"Current player turn:\",mancala.player_turn)\n",
    "print(mancala.result(mancala,2))\n",
    "print(mancala.display)\n",
    "print(mancala.board)\n",
    "print(\"Next player turn:\", mancala.player_turn)"
   ]
  },
  {
   "cell_type": "code",
   "execution_count": 12,
   "metadata": {},
   "outputs": [
    {
     "name": "stdout",
     "output_type": "stream",
     "text": [
      "Current player turn: False\n",
      "GameState(to_move=False, utility=0, board=[5, 5, 5, 5, 4, 0, 1, 5, 5, 5, 5, 5, 5, 1], moves=[7, 8, 9, 10, 11, 12])\n"
     ]
    }
   ],
   "source": [
    "#Check to see if the player doesn't score on the opponant score board\n",
    "test1 = Mancala([4, 4, 4, 4, 4, 12, 0, 4, 4, 4, 4, 4, 4, 0])\n",
    "print(\"Current player turn:\",test1.player_turn)\n",
    "print(test1.result(test1,5))"
   ]
  },
  {
   "cell_type": "code",
   "execution_count": 13,
   "metadata": {},
   "outputs": [
    {
     "name": "stdout",
     "output_type": "stream",
     "text": [
      "Current player turn: True\n",
      "*****Initial Board where player 2 picks up from cup 4:*****\n",
      "<bound method Game.__repr__ of <Mancala>>\n",
      "GameState(to_move=False, utility=0, board=[5, 5, 5, 0, 1, 0, 1, 5, 5, 5, 5, 5, 5, 1], moves=[0, 1, 2, 4, 5])\n",
      "<bound method Game.__repr__ of <Mancala>>\n",
      "Next player turn: True\n"
     ]
    }
   ],
   "source": [
    "#If the last piece you drop is in an empty hole on your side,\n",
    "#you capture that piece and any pieces in the hole directly opposite.\n",
    "mancala_2 = Mancala([4, 4, 4, 0, 1, 11, 0, 4, 4, 4,4 , 4, 4, 0],True)\n",
    "print(\"Current player turn:\",mancala_2.player_turn)\n",
    "print(\"*****Initial Board where player 2 picks up from cup 4:*****\")\n",
    "print(mancala_2.__repr__)\n",
    "print(mancala_2.result(mancala_2,5))\n",
    "print(mancala_2.__repr__)\n",
    "print(\"Next player turn:\", mancala_2.player_turn)"
   ]
  },
  {
   "cell_type": "code",
   "execution_count": 14,
   "metadata": {
    "scrolled": true
   },
   "outputs": [
    {
     "name": "stdout",
     "output_type": "stream",
     "text": [
      "In display: [0, 1, 0, 1, 0, 9, 17, 0, 0, 0, 0, 0, 0, 21]\n",
      "Player 2\n",
      "\t6\t5\t4\t3\t2\t1\n",
      "------------------------------------------------------------\n",
      "21\t0\t0\t0\t0\t0\t0\t\n",
      "\t0\t1\t0\t1\t0\t9\t17\n",
      "------------------------------------------------------------\n",
      "\t1\t2\t3\t4\t5\t6\n",
      "Player 1\n",
      "\n"
     ]
    },
    {
     "data": {
      "text/plain": [
       "1"
      ]
     },
     "execution_count": 14,
     "metadata": {},
     "output_type": "execute_result"
    }
   ],
   "source": [
    "#trying to do random_player where it will behave he is supposed to i.e. pseudo-randomly vs another random_player:\n",
    "mancalaPlay = Mancala()\n",
    "mancalaPlay.play_game(games.random_player,games.random_player)"
   ]
  },
  {
   "cell_type": "code",
   "execution_count": 15,
   "metadata": {},
   "outputs": [
    {
     "name": "stdout",
     "output_type": "stream",
     "text": [
      "In display: [0, 0, 0, 0, 1, 0, 23, 0, 0, 0, 0, 0, 0, 27]\n",
      "Player 2\n",
      "\t6\t5\t4\t3\t2\t1\n",
      "------------------------------------------------------------\n",
      "27\t0\t0\t0\t0\t0\t0\t\n",
      "\t0\t0\t0\t0\t1\t0\t23\n",
      "------------------------------------------------------------\n",
      "\t1\t2\t3\t4\t5\t6\n",
      "Player 1\n",
      "\n",
      "-1\n",
      "In display: [0, 0, 0, 0, 0, 0, 29, 1, 1, 0, 0, 3, 0, 19]\n",
      "Player 2\n",
      "\t6\t5\t4\t3\t2\t1\n",
      "------------------------------------------------------------\n",
      "19\t0\t3\t0\t0\t1\t1\t\n",
      "\t0\t0\t0\t0\t0\t0\t29\n",
      "------------------------------------------------------------\n",
      "\t1\t2\t3\t4\t5\t6\n",
      "Player 1\n",
      "\n",
      "1\n",
      "In display: [0, 0, 0, 0, 0, 0, 22, 0, 0, 3, 0, 0, 3, 23]\n",
      "Player 2\n",
      "\t6\t5\t4\t3\t2\t1\n",
      "------------------------------------------------------------\n",
      "23\t3\t0\t0\t3\t0\t0\t\n",
      "\t0\t0\t0\t0\t0\t0\t22\n",
      "------------------------------------------------------------\n",
      "\t1\t2\t3\t4\t5\t6\n",
      "Player 1\n",
      "\n",
      "-1\n",
      "In display: [0, 0, 0, 0, 0, 0, 23, 0, 0, 1, 0, 0, 1, 29]\n",
      "Player 2\n",
      "\t6\t5\t4\t3\t2\t1\n",
      "------------------------------------------------------------\n",
      "29\t1\t0\t0\t1\t0\t0\t\n",
      "\t0\t0\t0\t0\t0\t0\t23\n",
      "------------------------------------------------------------\n",
      "\t1\t2\t3\t4\t5\t6\n",
      "Player 1\n",
      "\n",
      "-1\n",
      "In display: [2, 0, 1, 1, 0, 1, 25, 0, 0, 0, 0, 0, 0, 20]\n",
      "Player 2\n",
      "\t6\t5\t4\t3\t2\t1\n",
      "------------------------------------------------------------\n",
      "20\t0\t0\t0\t0\t0\t0\t\n",
      "\t2\t0\t1\t1\t0\t1\t25\n",
      "------------------------------------------------------------\n",
      "\t1\t2\t3\t4\t5\t6\n",
      "Player 1\n",
      "\n",
      "1\n",
      "In display: [0, 0, 0, 0, 1, 0, 31, 0, 0, 0, 0, 0, 0, 21]\n",
      "Player 2\n",
      "\t6\t5\t4\t3\t2\t1\n",
      "------------------------------------------------------------\n",
      "21\t0\t0\t0\t0\t0\t0\t\n",
      "\t0\t0\t0\t0\t1\t0\t31\n",
      "------------------------------------------------------------\n",
      "\t1\t2\t3\t4\t5\t6\n",
      "Player 1\n",
      "\n",
      "1\n",
      "In display: [12, 1, 1, 2, 10, 3, 13, 0, 0, 0, 0, 0, 0, 8]\n",
      "Player 2\n",
      "\t6\t5\t4\t3\t2\t1\n",
      "------------------------------------------------------------\n",
      "8\t0\t0\t0\t0\t0\t0\t\n",
      "\t12\t1\t1\t2\t10\t3\t13\n",
      "------------------------------------------------------------\n",
      "\t1\t2\t3\t4\t5\t6\n",
      "Player 1\n",
      "\n",
      "1\n",
      "In display: [1, 3, 1, 0, 0, 2, 22, 0, 0, 0, 0, 0, 0, 22]\n",
      "Player 2\n",
      "\t6\t5\t4\t3\t2\t1\n",
      "------------------------------------------------------------\n",
      "22\t0\t0\t0\t0\t0\t0\t\n",
      "\t1\t3\t1\t0\t0\t2\t22\n",
      "------------------------------------------------------------\n",
      "\t1\t2\t3\t4\t5\t6\n",
      "Player 1\n",
      "\n",
      "1\n",
      "In display: [1, 0, 1, 0, 0, 2, 26, 0, 0, 0, 0, 0, 0, 22]\n",
      "Player 2\n",
      "\t6\t5\t4\t3\t2\t1\n",
      "------------------------------------------------------------\n",
      "22\t0\t0\t0\t0\t0\t0\t\n",
      "\t1\t0\t1\t0\t0\t2\t26\n",
      "------------------------------------------------------------\n",
      "\t1\t2\t3\t4\t5\t6\n",
      "Player 1\n",
      "\n",
      "1\n",
      "In display: [0, 0, 0, 3, 14, 2, 9, 0, 0, 0, 0, 0, 0, 23]\n",
      "Player 2\n",
      "\t6\t5\t4\t3\t2\t1\n",
      "------------------------------------------------------------\n",
      "23\t0\t0\t0\t0\t0\t0\t\n",
      "\t0\t0\t0\t3\t14\t2\t9\n",
      "------------------------------------------------------------\n",
      "\t1\t2\t3\t4\t5\t6\n",
      "Player 1\n",
      "\n",
      "1\n"
     ]
    }
   ],
   "source": [
    "for _ in range(10):\n",
    "    print(mancalaPlay.play_game(games.random_player,games.random_player))"
   ]
  },
  {
   "cell_type": "code",
   "execution_count": null,
   "metadata": {},
   "outputs": [],
   "source": [
    "mancalaPlay.play_game(games.random_player,games.alphabeta_player)"
   ]
  },
  {
   "cell_type": "code",
   "execution_count": null,
   "metadata": {},
   "outputs": [],
   "source": []
  }
 ],
 "metadata": {
  "kernelspec": {
   "display_name": "Python 3",
   "language": "python",
   "name": "python3"
  },
  "language_info": {
   "codemirror_mode": {
    "name": "ipython",
    "version": 3
   },
   "file_extension": ".py",
   "mimetype": "text/x-python",
   "name": "python",
   "nbconvert_exporter": "python",
   "pygments_lexer": "ipython3",
   "version": "3.6.5"
  }
 },
 "nbformat": 4,
 "nbformat_minor": 2
}
